{
 "cells": [
  {
   "cell_type": "code",
   "execution_count": 14,
   "id": "f3a69fb1",
   "metadata": {},
   "outputs": [],
   "source": [
    "import json\n",
    "from globals import *\n",
    "import pandas as pd\n",
    "import numpy as np\n",
    "from dataprep.dataset import load_reformated_csv, create_dataset\n",
    "from sklearn.preprocessing import MinMaxScaler"
   ]
  },
  {
   "cell_type": "code",
   "execution_count": 20,
   "id": "ecbbd126",
   "metadata": {},
   "outputs": [],
   "source": [
    "def get_dataset(df,\n",
    "                variable='B:VIMIN',\n",
    "                train_split_size: float = 0.7):\n",
    "\n",
    "    dataset = df[variable].values\n",
    "    dataset = dataset.astype('float32')\n",
    "    dataset = np.reshape(dataset, (-1, 1))\n",
    "\n",
    "    train_size = int(len(dataset) * train_split_size)\n",
    "    train, test = dataset[0:train_size, :], dataset[train_size:len(dataset), :]\n",
    "\n",
    "    X_train, Y_train = create_dataset(train,\n",
    "                                      look_back =  LOOK_BACK,\n",
    "                                      look_forward = LOOK_FORWARD)\n",
    "    X_train = np.reshape(X_train, (X_train.shape[0], 1, X_train.shape[1]))\n",
    "    Y_train = np.reshape(Y_train, (Y_train.shape[0], Y_train.shape[1]))\n",
    "\n",
    "    return  X_train, Y_train"
   ]
  },
  {
   "cell_type": "code",
   "execution_count": 23,
   "id": "c6a7615c",
   "metadata": {},
   "outputs": [],
   "source": [
    "# Load data to initialize the env\n",
    "with open(DATA_CONFIG) as json_file:\n",
    "    data_config = json.load(json_file)\n",
    "data = load_reformated_csv(filename = data_config['data_dir'] + data_config['data_filename'],\n",
    "                           nrows = NSTEPS)\n",
    "data['B:VIMIN'] = data['B:VIMIN'].shift(-1)\n",
    "data = data.set_index(pd.to_datetime(data.time))\n",
    "data = data.dropna()\n",
    "data = data.drop_duplicates()\n",
    "# logger.info ( 'Number of samples:{}'.format ( data.shape ) )\n",
    "data_list = []\n",
    "x_train = []\n",
    "# get_dataset also normalizes the data\n",
    "for v in range(len(VARIABLES)):\n",
    "    data_list.append(get_dataset(data, variable=VARIABLES[v]))\n",
    "#     scalers.append(data_list[v][0])\n",
    "    x_train.append(data_list[v][0])\n",
    "# Axis\n",
    "concate_axis = 1\n",
    "X_train = np.concatenate(x_train, axis=concate_axis)"
   ]
  },
  {
   "cell_type": "code",
   "execution_count": 24,
   "id": "e0693f08",
   "metadata": {},
   "outputs": [
    {
     "data": {
      "text/plain": [
       "(174982, 6, 15)"
      ]
     },
     "execution_count": 24,
     "metadata": {},
     "output_type": "execute_result"
    }
   ],
   "source": [
    "X_train.shape"
   ]
  },
  {
   "cell_type": "code",
   "execution_count": 6,
   "id": "a0490b17",
   "metadata": {},
   "outputs": [
    {
     "name": "stdout",
     "output_type": "stream",
     "text": [
      "date and time: D02012022-T205421\n"
     ]
    }
   ],
   "source": [
    "import os\n",
    "from datetime import datetime\n",
    "now = datetime.now ( )\n",
    "timestamp = now.strftime ( \"D%m%d%Y-T%H%M%S\" )\n",
    "print ( \"date and time:\" , timestamp )\n",
    "\n",
    "parent_dir = \"./results/policy_plots/\"\n",
    "ep_dir = \"episode_plots_{}\".format(timestamp)\n",
    "dir_path = os.path.dirname(parent_dir)\n",
    "path = os.path.join(dir_path, ep_dir)\n",
    "os.mkdir(path)"
   ]
  },
  {
   "cell_type": "code",
   "execution_count": 7,
   "id": "b18f7e30",
   "metadata": {},
   "outputs": [
    {
     "name": "stdout",
     "output_type": "stream",
     "text": [
      "./results/policy_plots/episode_plots_D02012022-T205421\n"
     ]
    }
   ],
   "source": [
    "print(path)"
   ]
  },
  {
   "cell_type": "code",
   "execution_count": null,
   "id": "931ff4d9",
   "metadata": {},
   "outputs": [],
   "source": []
  }
 ],
 "metadata": {
  "kernelspec": {
   "display_name": "Python 3 (ipykernel)",
   "language": "python",
   "name": "python3"
  },
  "language_info": {
   "codemirror_mode": {
    "name": "ipython",
    "version": 3
   },
   "file_extension": ".py",
   "mimetype": "text/x-python",
   "name": "python",
   "nbconvert_exporter": "python",
   "pygments_lexer": "ipython3",
   "version": "3.8.12"
  }
 },
 "nbformat": 4,
 "nbformat_minor": 5
}
